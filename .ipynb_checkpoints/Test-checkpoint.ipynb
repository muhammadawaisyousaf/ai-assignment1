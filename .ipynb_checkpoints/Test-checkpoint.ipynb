{
 "cells": [
  {
   "cell_type": "code",
   "execution_count": 11,
   "metadata": {},
   "outputs": [
    {
     "name": "stdout",
     "output_type": "stream",
     "text": [
      "[0 1 2 3 4 5 6 7 8 9]\n"
     ]
    }
   ],
   "source": [
    "import numpy as np\n",
    "print(np.arange(10))"
   ]
  },
  {
   "cell_type": "code",
   "execution_count": 26,
   "metadata": {},
   "outputs": [
    {
     "name": "stdout",
     "output_type": "stream",
     "text": [
      "[ 1.  2.  3.  4.  5.  6.  7.  8.  9. 10.]\n",
      "[10.  9.  8.  7.  6.  5.  4.  3.  2.  1.]\n"
     ]
    },
    {
     "ename": "TypeError",
     "evalue": "expected sequence object with len >= 0 or a single integer",
     "output_type": "error",
     "traceback": [
      "\u001b[1;31m---------------------------------------------------------------------------\u001b[0m",
      "\u001b[1;31mTypeError\u001b[0m                                 Traceback (most recent call last)",
      "\u001b[1;32m<ipython-input-26-5b0c459794cb>\u001b[0m in \u001b[0;36m<module>\u001b[1;34m\u001b[0m\n\u001b[0;32m     16\u001b[0m \u001b[1;33m\u001b[0m\u001b[0m\n\u001b[0;32m     17\u001b[0m \u001b[0ma\u001b[0m\u001b[1;33m=\u001b[0m\u001b[0mnp\u001b[0m\u001b[1;33m.\u001b[0m\u001b[0mndarray\u001b[0m\u001b[1;33m\u001b[0m\u001b[1;33m\u001b[0m\u001b[0m\n\u001b[1;32m---> 18\u001b[1;33m \u001b[0mprint\u001b[0m\u001b[1;33m(\u001b[0m\u001b[0mnp\u001b[0m\u001b[1;33m.\u001b[0m\u001b[0mndarray\u001b[0m\u001b[1;33m(\u001b[0m\u001b[0ma\u001b[0m\u001b[1;33m,\u001b[0m\u001b[0mb\u001b[0m\u001b[1;33m)\u001b[0m\u001b[1;33m)\u001b[0m\u001b[1;33m\u001b[0m\u001b[1;33m\u001b[0m\u001b[0m\n\u001b[0m",
      "\u001b[1;31mTypeError\u001b[0m: expected sequence object with len >= 0 or a single integer"
     ]
    }
   ],
   "source": [
    "import numpy as np\n",
    "a=np.ndarray(10)\n",
    "b=np.ndarray(10)\n",
    "counter1=1\n",
    "counter2=10\n",
    "for i in range(0,len(a)):\n",
    "    a[i]=counter1\n",
    "    counter1+=1\n",
    "    b[i]=counter2\n",
    "    counter2-=1\n",
    "\n",
    "\n",
    "#Functions\n",
    "print(np.add(a,b))\n",
    "print(np.subtract(a,b))\n",
    "print(np.multiply(a,b))\n",
    "print(np.divide(a,b))\n",
    "print(np.abs(a))\n",
    "print(np.pi)\n",
    "print(np.absolute(a))\n",
    "\n",
    "print(np.arccos(a))\n",
    "print(np.arccosh(a))\n",
    "print(np.arcsin(a))\n",
    "print(np.arcsinh(a))\n",
    "print(np.arctan())\n",
    "print(np.arctan2())\n",
    "print(np.arctanh())\n",
    "\n",
    "print(np.ceil())\n",
    "print(np.cbrt())\n",
    "print(np.conj())\n",
    "print(np.greater())\n",
    "print(np.greater_equal())\n",
    "print(np.disp())\n",
    "print(np.sin())\n",
    "print(np.cos())\n",
    "print(np.tan())\n",
    "print(np.sqrt())\n",
    "print(np.spacing())\n",
    "print(np.reciprocal())\n",
    "print(np.logical_and())\n",
    "print(np.logical_or())\n",
    "print(np.logical_not())\n",
    "print(np.logical_xor())\n",
    "print(np.bitwise_xor())\n",
    "print(np.bitwise_and())\n",
    "print(np.bitwise_or())\n",
    "print(np.deg2rad())\n",
    "print(np.degrees())\n",
    "print(np.fmax())\n",
    "print(np.fmin())\n",
    "print(np.set_numeric_ops())\n",
    "print(np.set_string_function())\n",
    "print(np.set_module())\n",
    "print(np.maximum())\n",
    "print(np.matmul())\n",
    "print(np.lcm())\n",
    "print(np.less())\n",
    "print(np.less_equal())"
   ]
  },
  {
   "cell_type": "code",
   "execution_count": null,
   "metadata": {},
   "outputs": [],
   "source": []
  }
 ],
 "metadata": {
  "kernelspec": {
   "display_name": "Python 3",
   "language": "python",
   "name": "python3"
  },
  "language_info": {
   "codemirror_mode": {
    "name": "ipython",
    "version": 3
   },
   "file_extension": ".py",
   "mimetype": "text/x-python",
   "name": "python",
   "nbconvert_exporter": "python",
   "pygments_lexer": "ipython3",
   "version": "3.7.4"
  }
 },
 "nbformat": 4,
 "nbformat_minor": 4
}
